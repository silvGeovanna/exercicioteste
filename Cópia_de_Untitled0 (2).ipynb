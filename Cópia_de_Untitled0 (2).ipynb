{
  "cells": [
    {
      "cell_type": "code",
      "execution_count": 1,
      "metadata": {
        "colab": {
          "base_uri": "https://localhost:8080/",
          "height": 110
        },
        "id": "QcKaaSfNQbnd",
        "outputId": "09c99287-3661-4130-912c-506b8fa8f93c"
      },
      "outputs": [
        {
          "output_type": "error",
          "ename": "IndentationError",
          "evalue": "expected an indented block after 'for' statement on line 3 (<ipython-input-1-4ed1c1b8f426>, line 4)",
          "traceback": [
            "\u001b[0;36m  File \u001b[0;32m\"<ipython-input-1-4ed1c1b8f426>\"\u001b[0;36m, line \u001b[0;32m4\u001b[0m\n\u001b[0;31m    numero = int(input(\"digite um numero\"))\u001b[0m\n\u001b[0m    ^\u001b[0m\n\u001b[0;31mIndentationError\u001b[0m\u001b[0;31m:\u001b[0m expected an indented block after 'for' statement on line 3\n"
          ]
        }
      ],
      "source": [
        "#faça um numero que leia 5 numeros e informe o maior numero\n",
        "maior_numero = 0\n",
        "for contador in range(5):\n",
        "numero = int(input(\"digite um numero\"))\n",
        "if numero > maior_numero:\n",
        "maior_numero=numero\n",
        " print(maior_numero)\n",
        "\n",
        "\n"
      ]
    },
    {
      "cell_type": "code",
      "execution_count": null,
      "metadata": {
        "id": "d-UncXhxWHmN"
      },
      "outputs": [],
      "source": []
    },
    {
      "cell_type": "code",
      "execution_count": null,
      "metadata": {
        "id": "CcvWM3NJWKOA"
      },
      "outputs": [],
      "source": []
    },
    {
      "cell_type": "code",
      "execution_count": null,
      "metadata": {
        "colab": {
          "base_uri": "https://localhost:8080/"
        },
        "id": "Ox8XTjAwXrR_",
        "outputId": "a39ed7ae-84e0-45fe-ed2a-4676b36e1b32"
      },
      "outputs": [
        {
          "name": "stdout",
          "output_type": "stream",
          "text": [
            "1003\n",
            "1014\n",
            "1025\n",
            "1036\n",
            "1047\n",
            "1058\n",
            "1069\n",
            "1080\n",
            "1091\n",
            "1102\n",
            "1113\n",
            "1124\n",
            "1135\n",
            "1146\n",
            "1157\n",
            "1168\n",
            "1179\n",
            "1190\n",
            "1201\n",
            "1212\n",
            "1223\n",
            "1234\n",
            "1245\n",
            "1256\n",
            "1267\n",
            "1278\n",
            "1289\n",
            "1300\n",
            "1311\n",
            "1322\n",
            "1333\n",
            "1344\n",
            "1355\n",
            "1366\n",
            "1377\n",
            "1388\n",
            "1399\n",
            "1410\n",
            "1421\n",
            "1432\n",
            "1443\n",
            "1454\n",
            "1465\n",
            "1476\n",
            "1487\n",
            "1498\n",
            "1509\n",
            "1520\n",
            "1531\n",
            "1542\n",
            "1553\n",
            "1564\n",
            "1575\n",
            "1586\n",
            "1597\n",
            "1608\n",
            "1619\n",
            "1630\n",
            "1641\n",
            "1652\n",
            "1663\n",
            "1674\n",
            "1685\n",
            "1696\n",
            "1707\n",
            "1718\n",
            "1729\n",
            "1740\n",
            "1751\n",
            "1762\n",
            "1773\n",
            "1784\n",
            "1795\n",
            "1806\n",
            "1817\n",
            "1828\n",
            "1839\n",
            "1850\n",
            "1861\n",
            "1872\n",
            "1883\n",
            "1894\n",
            "1905\n",
            "1916\n",
            "1927\n",
            "1938\n",
            "1949\n",
            "1960\n",
            "1971\n",
            "1982\n",
            "1993\n"
          ]
        }
      ],
      "source": [
        "#faça um programa que verifique e mostre os numeros entre 1000 e 2000\n",
        "for contador in range(1000,2001):\n",
        "  if contador % 11 ==2:\n",
        "    print (contador )"
      ]
    },
    {
      "cell_type": "code",
      "execution_count": null,
      "metadata": {
        "id": "IQH9kp5y_AOj"
      },
      "outputs": [],
      "source": []
    },
    {
      "cell_type": "code",
      "execution_count": null,
      "metadata": {
        "colab": {
          "base_uri": "https://localhost:8080/"
        },
        "id": "mTAmhBVXYTcc",
        "outputId": "1a7bb811-bd8a-4953-917e-d3aff8e1eb2c"
      },
      "outputs": [
        {
          "output_type": "stream",
          "name": "stdout",
          "text": [
            "digite o 1 º numero:10\n",
            "digite o 2 º numero:5\n",
            "digite o 3 º numero:5\n",
            "digite o 4 º numero:5\n",
            "digite o 5 º numero:5\n",
            "a soma dos numeros e: 30.0\n",
            "a media dos numeros e: 6.0\n"
          ]
        }
      ],
      "source": [
        "# faça um programa que leia 5numeros e informe a soma e a media dos numeros\n",
        "soma = 0\n",
        "for i in range(5):\n",
        " numero =float(input (f\"digite o {i+1} º numero:\"))\n",
        " soma += numero\n",
        "media = soma/5\n",
        "print (f\"a soma dos numeros e: {soma}\")\n",
        "print (f\"a media dos numeros e: {media}\")"
      ]
    },
    {
      "cell_type": "code",
      "execution_count": null,
      "metadata": {
        "id": "Vqhe6HagjY0K"
      },
      "outputs": [],
      "source": []
    },
    {
      "cell_type": "code",
      "execution_count": null,
      "metadata": {
        "id": "4CcQE_A3ayUA"
      },
      "outputs": [],
      "source": []
    },
    {
      "cell_type": "code",
      "execution_count": null,
      "metadata": {
        "id": "N6ky3tBGYPFs",
        "colab": {
          "base_uri": "https://localhost:8080/"
        },
        "outputId": "821225bd-b88f-4270-d48c-f0b5a5dad6c1"
      },
      "outputs": [
        {
          "output_type": "stream",
          "name": "stdout",
          "text": [
            "digite um numero para calcular a tabuada 5\n",
            "tabuada de 5 \n",
            "5 x 1 = 5\n",
            "5 x 2 = 10\n",
            "5 x 3 = 15\n",
            "5 x 4 = 20\n",
            "5 x 5 = 25\n",
            "5 x 6 = 30\n",
            "5 x 7 = 35\n",
            "5 x 8 = 40\n",
            "5 x 9 = 45\n",
            "5 x 10 = 50\n"
          ]
        }
      ],
      "source": [
        "#faça um programa que receba um numero e usando laços de repetição calcule e mostre a tabuada desse numero\n",
        "numero = int(input(\"digite um numero para calcular a tabuada \"))\n",
        "print(\"tabuada de\",numero,\"\")\n",
        "for i in range(1,11):\n",
        " resultado = numero*i\n",
        " print(numero,\"x\",i,\"=\",resultado)"
      ]
    },
    {
      "cell_type": "code",
      "execution_count": null,
      "metadata": {
        "colab": {
          "base_uri": "https://localhost:8080/",
          "height": 110
        },
        "id": "6w6NCrSOF2Dv",
        "outputId": "076fba2a-8e10-4361-f39c-cf35f7195ebb"
      },
      "outputs": [
        {
          "output_type": "error",
          "ename": "IndentationError",
          "evalue": "unindent does not match any outer indentation level (<tokenize>, line 5)",
          "traceback": [
            "\u001b[0;36m  File \u001b[0;32m\"<tokenize>\"\u001b[0;36m, line \u001b[0;32m5\u001b[0m\n\u001b[0;31m    print(\"x\",j, \"=\",resultado)\u001b[0m\n\u001b[0m    ^\u001b[0m\n\u001b[0;31mIndentationError\u001b[0m\u001b[0;31m:\u001b[0m unindent does not match any outer indentation level\n"
          ]
        }
      ],
      "source": [
        "#faça um programa que mostre a tabuadas dos numeros de 1 a 10 usando laços de repetição\n",
        "for i in range (1,11):\n",
        "  for j in range(1,11):\n",
        "    resultado i*j\n",
        "   print(\"x\",j, \"=\",resultado)"
      ]
    },
    {
      "cell_type": "code",
      "execution_count": null,
      "metadata": {
        "colab": {
          "base_uri": "https://localhost:8080/"
        },
        "id": "bWY5wOXrKvp6",
        "outputId": "f7dea78a-e175-484a-978d-48af283565e4"
      },
      "outputs": [
        {
          "name": "stdout",
          "output_type": "stream",
          "text": [
            "1\n",
            "2\n",
            "3\n",
            "4\n",
            "5\n",
            "6\n",
            "7\n",
            "8\n",
            "9\n",
            "10\n",
            "11\n",
            "12\n",
            "13\n",
            "14\n",
            "15\n",
            "16\n",
            "17\n",
            "18\n",
            "19\n",
            "20\n"
          ]
        }
      ],
      "source": [
        "# faça um programa que imprima na tela os numeros de 1 a 20\n",
        "for i in range(1, 21):\n",
        " print(i)"
      ]
    },
    {
      "cell_type": "code",
      "execution_count": null,
      "metadata": {
        "colab": {
          "base_uri": "https://localhost:8080/"
        },
        "id": "i0Rj306pMJ-F",
        "outputId": "edd13abc-0a60-4ff5-915b-c0031293263c"
      },
      "outputs": [
        {
          "name": "stdout",
          "output_type": "stream",
          "text": [
            "1\n",
            "3\n",
            "5\n",
            "7\n",
            "9\n",
            "11\n",
            "13\n",
            "15\n",
            "17\n",
            "19\n",
            "21\n",
            "23\n",
            "25\n",
            "27\n",
            "29\n",
            "31\n",
            "33\n",
            "35\n",
            "37\n",
            "39\n",
            "41\n",
            "43\n",
            "45\n",
            "47\n",
            "49\n"
          ]
        }
      ],
      "source": [
        "#faça um programa que imprima na tela apenas os impares entre 1 e 50\n",
        "for i in range(1, 50):\n",
        " if i % 2==1:\n",
        "  print(i)"
      ]
    },
    {
      "cell_type": "code",
      "execution_count": null,
      "metadata": {
        "id": "VeOhuYVSWRDw"
      },
      "outputs": [],
      "source": [
        "#faça um programa que receba dois numeros inteiros e gere os numeros inteiros\n",
        "n1 = int(input(\"digite um numero:\"))\n",
        "n2 = int(input(\"digite outro numero:\"))\n",
        "for u in range (n+1+1, n2):\n",
        "  print(u)\n"
      ]
    },
    {
      "cell_type": "code",
      "execution_count": null,
      "metadata": {
        "id": "3mcES3ZaX-ZB"
      },
      "outputs": [],
      "source": [
        "#Uma loja deseja cadastrar 5 clientes e verificar se o faturamento da loja foi\n",
        "lojaB = 54000\n",
        "lojaA = 0\n",
        "\n",
        "for i in range(5):\n",
        "  valor = int(input(\"digite um valor\"))\n",
        "  lojaA += valor\n",
        "\n",
        "if lojaB > lojaA:\n",
        "  print(\"Loja b foi maior\")\n",
        "elif lojaB == lojaA:\n",
        "  print(\"foi igual\")\n",
        "else:\n",
        "  print(\"loja A foi maior\")"
      ]
    },
    {
      "cell_type": "code",
      "execution_count": null,
      "metadata": {
        "colab": {
          "background_save": true,
          "base_uri": "https://localhost:8080/"
        },
        "id": "HvJZ8iJ3e9r8",
        "outputId": "59149ca2-2be1-4bac-c3c8-5ba5ec0778f9"
      },
      "outputs": [
        {
          "name": "stdout",
          "output_type": "stream",
          "text": [
            "esses numeros sao pares\n",
            "1\n",
            "esses numero sao impares\n",
            "esses numeros sao pares\n"
          ]
        }
      ],
      "source": [
        "#Faça um programa que peça 10 números inteiros, calcule e mostre a quantidade de números pares e a quantidade de números impares.\n",
        "for i in range(10):\n",
        "  numeros = input(\"digite um numero\")\n",
        "  if i % 2 == 1:\n",
        "    print(i)\n",
        "    print(\"esses numero sao impares\")\n",
        "  else:\n",
        "    print(\"esses numeros sao pares\")"
      ]
    },
    {
      "cell_type": "code",
      "execution_count": null,
      "metadata": {
        "id": "xycHLNHDq_D3"
      },
      "outputs": [],
      "source": [
        "#Faça um programa que peça uma nota, entre zero e dez. Mostre uma mensagem caso o valor seja inválido e continue pedindo até que o usuário\n",
        " for in range (1)\n",
        " Nota = float (input(\"digite uma nota de zero a dez\"):)\n",
        "  if nota > 0 and  nota < 10:\n",
        "       print(\"nota valida\")\n",
        "  else:\n",
        "       print(\"nota invalida,digite uma nota 0 a 10\" )"
      ]
    },
    {
      "cell_type": "code",
      "execution_count": null,
      "metadata": {
        "id": "VVfVy84sMdh5"
      },
      "outputs": [],
      "source": [
        "#Uma loja tem tem uma política de descontos de acordo com o valor da compra do cliente. Os descontos começam acima dos R$500.\n",
        "if valordacompra == 500:\n",
        "  print(\"voce recebe 1% de desconto\")\n",
        "elif valordacompra == 600:\n",
        "  print(\"voce recebeu 2% de desconto\")\n",
        "  elif valordacompra == 700:\n",
        "  print(\"voce recebeu 3% de desconto\")\n",
        "  elif valordacompra == 800:\n",
        "  print(\"voce recebeu 4% de desconto\")\n",
        "  elif valordacompra == 900:\n",
        "  print(\"voce recebeu 5% de desconto\")\n",
        "  elif valordacompra == 1000:\n",
        "  print(\"voce recebeu 6% de desconto\")\n",
        "  elif valordacompra == 1100:\n",
        "  print(\"voce recebeu 7% de desconto\")\n",
        "  elif valordacompra == 1200:\n",
        "  print(\"voce recebeu 8% de desconto\")\n",
        "  elif valordacompra == 1300:\n",
        "  print(\"voce recebeu 9% de desconto\")\n",
        "  elif valordacompra == 1400:\n",
        "  print(\"voce recebeu 10% de desconto\")\n",
        "   elif valordacompra == 1500:\n",
        "  print(\"voce recebeu 11% de desconto\")\n",
        "   elif valordacompra == 1600:\n",
        "  print(\"voce recebeu 12% de desconto\")\n",
        "   elif valordacompra == 1700:\n",
        "  print(\"voce recebeu 13% de desconto\")\n",
        "   elif valordacompra == 1800:\n",
        "  print(\"voce recebeu 14% de desconto\")\n",
        "   elif valordacompra == 1900:\n",
        "  print(\"voce recebeu 15% de desconto\")\n",
        "   elif valordacompra == 2000:\n",
        "  print(\"voce recebeu 16% de desconto\")\n",
        "  elif valordacompra == 2100:\n",
        "  print(\"voce recebeu 17% de desconto\")\n",
        "  elif valordacompra == 2200:\n",
        "  print(\"voce recebeu 18% de desconto\")\n",
        "  elif valordacompra == 2300:\n",
        "  print(\"voce recebeu 19% de desconto\")\n",
        "  elif valordacompra == 2400:\n",
        "  print(\"voce recebeu 20% de desconto\")\n",
        "  elif valordacompra == 2500:\n",
        "  print(\"voce recebeu 21% de desconto\")\n",
        "  elif valordacompra == 2600:\n",
        "  print(\"voce recebeu 22% de desconto\")\n",
        "  elif valordacompra == 2700:\n",
        "  print(\"voce recebeu 23% de desconto\")\n",
        "  elif valordacompra == 2800:\n",
        "  print(\"voce recebeu 24% de desconto\")\n",
        "  elif valordacompra == 2900:\n",
        "  print(\"voce recebeu 25% de desconto\")"
      ]
    },
    {
      "cell_type": "code",
      "execution_count": null,
      "metadata": {
        "id": "eIhUwNFFTZM0"
      },
      "outputs": [],
      "source": [
        "#Faça um programa que receba a idade de 15 pessoas e que calcule e mostre:\n",
        "faixas_etarias = [15, 16/30, 31/45, 46/60, 61+]\n",
        " total_pessoas = len(idades)\n",
        "\n",
        "for idade in idades:\n",
        "    if idade <= 17:\n",
        "        faixas_etarias[0] += 1\n",
        "    elif 18 <= idade <= 29:\n",
        "        faixas_etarias[1] += 1\n",
        "    elif 30 <= idade <= 49:\n",
        "        faixas_etarias[2] += 1\n",
        "    elif 50 <= idade <= 64:\n",
        "        faixas_etarias[3] += 1\n",
        "    else:\n",
        "        faixas_etarias[4] += 1\n"
      ]
    },
    {
      "cell_type": "code",
      "execution_count": null,
      "metadata": {
        "id": "GyViK2phSpKp"
      },
      "outputs": [],
      "source": [
        "#Faça um programa que peça dois números, base e expoente, calcule e mostre o primeiro número elevado ao segundo número.\n",
        "base = float(input(\"Digite a base: \"))\n",
        "expoente = int(input(\"Digite o expoente: \"))\n",
        "\n",
        "resultado = 1\n",
        "\n",
        "for _ in range(expoente):\n",
        "    resultado *= base\n",
        "\n",
        "print(f\"{base} elevado a {expoente} é igual a {resultado}\")\n"
      ]
    },
    {
      "cell_type": "code",
      "execution_count": null,
      "metadata": {
        "id": "peuDSlRbrpBr"
      },
      "outputs": [],
      "source": [
        "#Faça um programa que mostre todos os primos entre 1 e N sendo N um número inteiro fornecido pelo usuário.\n",
        "N = int(input(\"Digite um número inteiro \"))\n",
        "primos = []\n",
        "divisoes = 0\n",
        "\n",
        "for num in range(2, N + 1):\n",
        "    primo = True\n",
        "    for i in range(2, int(num**0.5) + 1):\n",
        "        divisoes += 1\n",
        "        if num % i == 0:\n",
        "            primo = False\n",
        "            break\n",
        "    if primo:\n",
        "        primos += [num]\n",
        "\n",
        "print(\"Números primos entre 1 e\", N, primos)\n",
        "print(\"Número total de divisões realizadas:\", divisoes)"
      ]
    },
    {
      "cell_type": "code",
      "execution_count": null,
      "metadata": {
        "id": "flaHfRRxxGr5"
      },
      "outputs": [],
      "source": []
    },
    {
      "cell_type": "code",
      "execution_count": null,
      "metadata": {
        "id": "MGmj7ZYvi-wi"
      },
      "outputs": [],
      "source": []
    }
  ],
  "metadata": {
    "colab": {
      "provenance": []
    },
    "kernelspec": {
      "display_name": "Python 3",
      "name": "python3"
    },
    "language_info": {
      "name": "python"
    }
  },
  "nbformat": 4,
  "nbformat_minor": 0
}